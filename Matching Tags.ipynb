{
 "cells": [
  {
   "cell_type": "code",
   "execution_count": 3,
   "metadata": {},
   "outputs": [],
   "source": [
    "import numpy as np\n",
    "import pandas as pd"
   ]
  },
  {
   "cell_type": "code",
   "execution_count": 197,
   "metadata": {},
   "outputs": [],
   "source": [
    "iDataSet=pd.read_csv(\"imagedataset.csv\")\n",
    "qDataSet=pd.read_csv(\"Filtered_Quotes(0-1500).csv\")"
   ]
  },
  {
   "cell_type": "code",
   "execution_count": 200,
   "metadata": {},
   "outputs": [],
   "source": [
    "images=np.array(iDataSet)\n",
    "quotes=np.array(qDataSet)"
   ]
  },
  {
   "cell_type": "code",
   "execution_count": 212,
   "metadata": {},
   "outputs": [],
   "source": [
    "def matchWords(a,b):\n",
    "    score=0\n",
    "    for w in a:\n",
    "        for i in b:\n",
    "            if w.lower()==i.lower():\n",
    "                score+=1\n",
    "    return score"
   ]
  },
  {
   "cell_type": "code",
   "execution_count": 221,
   "metadata": {},
   "outputs": [],
   "source": [
    "scores=[]\n",
    "for sample in quotes:\n",
    "    quote=sample[1]\n",
    "    categories=sample[0]\n",
    "    tags=sample[2]\n",
    "    tempScore=[]\n",
    "    for image in images:\n",
    "        iName=image[0]\n",
    "        iCategories=image[1]\n",
    "        iTags=image[2]\n",
    "        score1=matchWords(categories.split(','),iCategories.split(','))\n",
    "        score2=matchWords(tags.split(','),iTags.split(','))\n",
    "        if score1 and score2:\n",
    "            tempScore.append((iName,score1,score2))\n",
    "    scores.append(tempScore)"
   ]
  },
  {
   "cell_type": "code",
   "execution_count": null,
   "metadata": {},
   "outputs": [],
   "source": []
  }
 ],
 "metadata": {
  "kernelspec": {
   "display_name": "Python 3",
   "language": "python",
   "name": "python3"
  },
  "language_info": {
   "codemirror_mode": {
    "name": "ipython",
    "version": 3
   },
   "file_extension": ".py",
   "mimetype": "text/x-python",
   "name": "python",
   "nbconvert_exporter": "python",
   "pygments_lexer": "ipython3",
   "version": "3.6.7"
  }
 },
 "nbformat": 4,
 "nbformat_minor": 2
}
