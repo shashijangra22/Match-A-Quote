{
 "cells": [
  {
   "cell_type": "code",
   "execution_count": 1,
   "metadata": {},
   "outputs": [],
   "source": [
    "import numpy as np\n",
    "import pandas as pd\n",
    "from PIL import Image\n",
    "import matplotlib.pyplot as plt"
   ]
  },
  {
   "cell_type": "code",
   "execution_count": 37,
   "metadata": {},
   "outputs": [],
   "source": [
    "iDataSet=pd.read_csv(\"imageDataSet.csv\")\n",
    "qDataSet=pd.read_csv(\"sampleDataSet.csv\")"
   ]
  },
  {
   "cell_type": "code",
   "execution_count": 38,
   "metadata": {},
   "outputs": [],
   "source": [
    "images=np.array(iDataSet)\n",
    "quotes=np.array(qDataSet)"
   ]
  },
  {
   "cell_type": "code",
   "execution_count": 39,
   "metadata": {},
   "outputs": [],
   "source": [
    "def MatchAQuote(qCats,quote,qTags,mType):\n",
    "    tempScore=[]\n",
    "    for image in images[:-1]:\n",
    "        iName=image[0]\n",
    "        iCats=image[1]\n",
    "        iTags=image[2]\n",
    "        matchCats=matchWords(qCats.split(','),iCats.split(','))\n",
    "        matchTags=matchWords(qTags.split(','),iTags.split(','))\n",
    "        score1=len(matchCats)*5\n",
    "        score2=len(matchTags)\n",
    "        if mType==\"STRICT\":\n",
    "            if score1 >= 5 and score2:\n",
    "                details={\n",
    "                    \"iName\":iName,\n",
    "                    \"scores\":(score1,score2),\n",
    "                    \"mCats\":matchCats,\n",
    "                    \"mTags\":matchTags,\n",
    "                    \"mScore\":score1+score2\n",
    "                }\n",
    "                tempScore.append(details)\n",
    "        else:\n",
    "            if score1 + score2 > 0:\n",
    "                details={\n",
    "                    \"iName\":iName,\n",
    "                    \"scores\":(score1,score2),\n",
    "                    \"mCats\":matchCats,\n",
    "                    \"mTags\":matchTags,\n",
    "                    \"mScore\":score1+score2\n",
    "                }\n",
    "                tempScore.append(details)\n",
    "    tempScore=sorted(tempScore, key = lambda i: i['mScore'],reverse=True)\n",
    "    return tempScore"
   ]
  },
  {
   "cell_type": "code",
   "execution_count": 40,
   "metadata": {},
   "outputs": [],
   "source": [
    "def matchWords(a,b):\n",
    "    matches=[]\n",
    "    for w in a:\n",
    "        for i in b:\n",
    "            if w.lower()==i.lower():\n",
    "                matches.append(w.lower())\n",
    "    return matches"
   ]
  },
  {
   "cell_type": "code",
   "execution_count": 44,
   "metadata": {},
   "outputs": [],
   "source": [
    "def candidates(sample,mType):\n",
    "    cats=sample[0]\n",
    "    quote=sample[1]\n",
    "    tags=sample[2]\n",
    "    print(\"Cats are: \",cats)\n",
    "    print(\"Quote is: \",quote)\n",
    "    print(\"Tags are: \",tags)\n",
    "    tempScore=MatchAQuote(cats,quote,tags,mType)\n",
    "    print(\"\\nMatched Candidates are: \\n\")\n",
    "    if mType==\"STRICT\":\n",
    "        top=3\n",
    "    else:\n",
    "        top=5\n",
    "    for item in tempScore[:top]:\n",
    "        imgName=item[\"iName\"]\n",
    "        print(\"image name: \",imgName)\n",
    "        print(\"scores: \",item[\"scores\"])\n",
    "        print(\"Matching Score is: \",item[\"mScore\"])\n",
    "        print(\"Matched Cats are: \",item[\"mCats\"])\n",
    "        print(\"Matched Tags are: \",item[\"mTags\"])\n",
    "        print()\n",
    "#         plt.figure()\n",
    "#         head,sep,tail=imgName.partition('_')\n",
    "#         IMG=Image.open(\"../images/\"+head+\"/\"+imgName+\".png\")\n",
    "#         plt.imshow(IMG)\n",
    "#         plt.show()"
   ]
  },
  {
   "cell_type": "code",
   "execution_count": 45,
   "metadata": {},
   "outputs": [],
   "source": [
    "# Enter your own quote here\n",
    "sample_Cats=[]\n",
    "sample_Quote=[]\n",
    "sample_Tags=[]\n",
    "sample_data=[sample_Cats,sample_Quote,sample_Tags]"
   ]
  },
  {
   "cell_type": "code",
   "execution_count": 48,
   "metadata": {},
   "outputs": [
    {
     "name": "stdout",
     "output_type": "stream",
     "text": [
      "Cats are:  books\n",
      "Quote is:  Rainy days should be spent at home with a cup of tea and a good book.\n",
      "Tags are:  comfort,rain,reading,tea,read,alone,solitude\n",
      "\n",
      "Matched Candidates are: \n",
      "\n",
      "image name:  Books_15\n",
      "scores:  (5, 4)\n",
      "Matching Score is:  9\n",
      "Matched Cats are:  ['books']\n",
      "Matched Tags are:  ['reading', 'tea', 'read', 'alone']\n",
      "\n",
      "image name:  Books_16\n",
      "scores:  (5, 3)\n",
      "Matching Score is:  8\n",
      "Matched Cats are:  ['books']\n",
      "Matched Tags are:  ['read', 'alone', 'solitude']\n",
      "\n",
      "image name:  Books_3\n",
      "scores:  (5, 1)\n",
      "Matching Score is:  6\n",
      "Matched Cats are:  ['books']\n",
      "Matched Tags are:  ['read']\n",
      "\n"
     ]
    }
   ],
   "source": [
    "candidates(quotes[1],mType=\"STRICT\")"
   ]
  },
  {
   "cell_type": "code",
   "execution_count": null,
   "metadata": {},
   "outputs": [],
   "source": []
  }
 ],
 "metadata": {
  "kernelspec": {
   "display_name": "Python 3",
   "language": "python",
   "name": "python3"
  },
  "language_info": {
   "codemirror_mode": {
    "name": "ipython",
    "version": 3
   },
   "file_extension": ".py",
   "mimetype": "text/x-python",
   "name": "python",
   "nbconvert_exporter": "python",
   "pygments_lexer": "ipython3",
   "version": "3.7.3"
  }
 },
 "nbformat": 4,
 "nbformat_minor": 2
}
