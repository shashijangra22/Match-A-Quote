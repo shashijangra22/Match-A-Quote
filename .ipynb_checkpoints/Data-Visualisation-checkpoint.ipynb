{
 "cells": [
  {
   "cell_type": "code",
   "execution_count": 2,
   "metadata": {},
   "outputs": [],
   "source": [
    "import numpy as np\n",
    "import pandas as pd"
   ]
  },
  {
   "cell_type": "code",
   "execution_count": 3,
   "metadata": {},
   "outputs": [],
   "source": [
    "dataSet=pd.read_csv(\"Filtered_Quotes(0-1500).csv\")"
   ]
  },
  {
   "cell_type": "code",
   "execution_count": 5,
   "metadata": {},
   "outputs": [],
   "source": [
    "data=np.array(dataSet)"
   ]
  },
  {
   "cell_type": "code",
   "execution_count": 7,
   "metadata": {},
   "outputs": [],
   "source": [
    "cats=[]\n",
    "for item in data[:,0]:\n",
    "    cats.extend(item.split(','))"
   ]
  },
  {
   "cell_type": "code",
   "execution_count": 12,
   "metadata": {},
   "outputs": [],
   "source": [
    "cats=np.unique(cats)"
   ]
  },
  {
   "cell_type": "code",
   "execution_count": 17,
   "metadata": {},
   "outputs": [],
   "source": [
    "allScores={}\n",
    "for cat in cats:\n",
    "    score=0\n",
    "    for sample in data[:,0]:\n",
    "        if cat in sample.split(','):\n",
    "            score+=1\n",
    "    allScores[cat]=score"
   ]
  },
  {
   "cell_type": "code",
   "execution_count": 18,
   "metadata": {},
   "outputs": [
    {
     "data": {
      "text/plain": [
       "{'arts': 41,\n",
       " 'books': 10,\n",
       " 'death': 4,\n",
       " 'education': 1,\n",
       " 'friendship': 6,\n",
       " 'god': 1,\n",
       " 'happiness': 6,\n",
       " 'hope': 38,\n",
       " 'humor': 14,\n",
       " 'inpiration': 1,\n",
       " 'inspiration': 25,\n",
       " 'knowledge': 1,\n",
       " 'life': 87,\n",
       " 'love': 77,\n",
       " 'motivation': 6,\n",
       " 'philosophy': 5,\n",
       " 'poetry': 3,\n",
       " 'positive': 1,\n",
       " 'science': 1,\n",
       " 'soul': 3,\n",
       " 'success': 64,\n",
       " 'truth': 1,\n",
       " 'wisdom': 1,\n",
       " 'writing': 1}"
      ]
     },
     "execution_count": 18,
     "metadata": {},
     "output_type": "execute_result"
    }
   ],
   "source": [
    "allScores"
   ]
  },
  {
   "cell_type": "code",
   "execution_count": null,
   "metadata": {},
   "outputs": [],
   "source": []
  }
 ],
 "metadata": {
  "kernelspec": {
   "display_name": "Python 3",
   "language": "python",
   "name": "python3"
  },
  "language_info": {
   "codemirror_mode": {
    "name": "ipython",
    "version": 3
   },
   "file_extension": ".py",
   "mimetype": "text/x-python",
   "name": "python",
   "nbconvert_exporter": "python",
   "pygments_lexer": "ipython3",
   "version": "3.7.3"
  }
 },
 "nbformat": 4,
 "nbformat_minor": 2
}
