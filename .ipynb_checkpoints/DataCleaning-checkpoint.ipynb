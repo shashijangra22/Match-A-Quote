{
 "cells": [
  {
   "cell_type": "code",
   "execution_count": 1,
   "metadata": {},
   "outputs": [],
   "source": [
    "import numpy as np\n",
    "import pandas as pd"
   ]
  },
  {
   "cell_type": "code",
   "execution_count": 108,
   "metadata": {},
   "outputs": [],
   "source": [
    "dataSet=pd.read_json(\"quotes.json\")[['Category','Quote','Tags']]"
   ]
  },
  {
   "cell_type": "code",
   "execution_count": 201,
   "metadata": {},
   "outputs": [
    {
     "data": {
      "text/html": [
       "<div>\n",
       "<style scoped>\n",
       "    .dataframe tbody tr th:only-of-type {\n",
       "        vertical-align: middle;\n",
       "    }\n",
       "\n",
       "    .dataframe tbody tr th {\n",
       "        vertical-align: top;\n",
       "    }\n",
       "\n",
       "    .dataframe thead th {\n",
       "        text-align: right;\n",
       "    }\n",
       "</style>\n",
       "<table border=\"1\" class=\"dataframe\">\n",
       "  <thead>\n",
       "    <tr style=\"text-align: right;\">\n",
       "      <th></th>\n",
       "      <th>Category</th>\n",
       "      <th>Quote</th>\n",
       "      <th>Tags</th>\n",
       "    </tr>\n",
       "  </thead>\n",
       "  <tbody>\n",
       "    <tr>\n",
       "      <th>0</th>\n",
       "      <td>life</td>\n",
       "      <td>Don't cry because it's over, smile because it ...</td>\n",
       "      <td>[attributed-no-source, cry, crying, experience...</td>\n",
       "    </tr>\n",
       "    <tr>\n",
       "      <th>1</th>\n",
       "      <td>happiness</td>\n",
       "      <td>Don't cry because it's over, smile because it ...</td>\n",
       "      <td>[attributed-no-source, cry, crying, experience...</td>\n",
       "    </tr>\n",
       "    <tr>\n",
       "      <th>2</th>\n",
       "      <td>love</td>\n",
       "      <td>I'm selfish, impatient and a little insecure. ...</td>\n",
       "      <td>[attributed-no-source, best, life, love, mista...</td>\n",
       "    </tr>\n",
       "    <tr>\n",
       "      <th>3</th>\n",
       "      <td>life</td>\n",
       "      <td>I'm selfish, impatient and a little insecure. ...</td>\n",
       "      <td>[attributed-no-source, best, life, love, mista...</td>\n",
       "    </tr>\n",
       "    <tr>\n",
       "      <th>4</th>\n",
       "      <td>truth</td>\n",
       "      <td>I'm selfish, impatient and a little insecure. ...</td>\n",
       "      <td>[attributed-no-source, best, life, love, mista...</td>\n",
       "    </tr>\n",
       "  </tbody>\n",
       "</table>\n",
       "</div>"
      ],
      "text/plain": [
       "    Category                                              Quote  \\\n",
       "0       life  Don't cry because it's over, smile because it ...   \n",
       "1  happiness  Don't cry because it's over, smile because it ...   \n",
       "2       love  I'm selfish, impatient and a little insecure. ...   \n",
       "3       life  I'm selfish, impatient and a little insecure. ...   \n",
       "4      truth  I'm selfish, impatient and a little insecure. ...   \n",
       "\n",
       "                                                Tags  \n",
       "0  [attributed-no-source, cry, crying, experience...  \n",
       "1  [attributed-no-source, cry, crying, experience...  \n",
       "2  [attributed-no-source, best, life, love, mista...  \n",
       "3  [attributed-no-source, best, life, love, mista...  \n",
       "4  [attributed-no-source, best, life, love, mista...  "
      ]
     },
     "execution_count": 201,
     "metadata": {},
     "output_type": "execute_result"
    }
   ],
   "source": [
    "dataSet.head()"
   ]
  },
  {
   "cell_type": "code",
   "execution_count": 262,
   "metadata": {},
   "outputs": [],
   "source": [
    "quotes=np.array(dataSet)\n",
    "uIndexes=set()\n",
    "prevQuote=[None,None,None]\n",
    "for ind,sample in enumerate(quotes):\n",
    "    if prevQuote[1]==sample[1]:\n",
    "        prevQuote[0]+=\",\"+sample[0]\n",
    "        sample[0]=\"\"\n",
    "    else:\n",
    "        prevQuote=sample\n",
    "        uIndexes.add(ind)"
   ]
  },
  {
   "cell_type": "code",
   "execution_count": 263,
   "metadata": {},
   "outputs": [],
   "source": [
    "newDF=pd.DataFrame(quotes,columns=['Category','Quote','Tags'])"
   ]
  },
  {
   "cell_type": "code",
   "execution_count": 274,
   "metadata": {},
   "outputs": [],
   "source": [
    "newDF=newDF[newDF['Category']!=\"\"]"
   ]
  },
  {
   "cell_type": "code",
   "execution_count": 276,
   "metadata": {},
   "outputs": [],
   "source": [
    "newDF.to_csv(\"quotes.csv\",index=False)"
   ]
  },
  {
   "cell_type": "code",
   "execution_count": null,
   "metadata": {},
   "outputs": [],
   "source": []
  }
 ],
 "metadata": {
  "kernelspec": {
   "display_name": "Python 3",
   "language": "python",
   "name": "python3"
  },
  "language_info": {
   "codemirror_mode": {
    "name": "ipython",
    "version": 3
   },
   "file_extension": ".py",
   "mimetype": "text/x-python",
   "name": "python",
   "nbconvert_exporter": "python",
   "pygments_lexer": "ipython3",
   "version": "3.6.7"
  }
 },
 "nbformat": 4,
 "nbformat_minor": 2
}
