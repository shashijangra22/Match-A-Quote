{
 "cells": [
  {
   "cell_type": "code",
   "execution_count": 2,
   "metadata": {},
   "outputs": [],
   "source": [
    "import numpy as np\n",
    "import pandas as pd\n",
    "from PIL import Image\n",
    "import matplotlib.pyplot as plt"
   ]
  },
  {
   "cell_type": "code",
   "execution_count": 4,
   "metadata": {},
   "outputs": [],
   "source": [
    "iDataSet=pd.read_csv(\"Quotes Unique csv/arts.csv\")\n",
    "qDataSet=pd.read_excel(\"Quotes Unique csv/arts.xlsx\")"
   ]
  },
  {
   "cell_type": "code",
   "execution_count": 6,
   "metadata": {},
   "outputs": [],
   "source": [
    "images=np.array(iDataSet)\n",
    "quotes=np.array(qDataSet)"
   ]
  },
  {
   "cell_type": "code",
   "execution_count": 9,
   "metadata": {},
   "outputs": [],
   "source": [
    "# quotes"
   ]
  },
  {
   "cell_type": "code",
   "execution_count": 10,
   "metadata": {},
   "outputs": [],
   "source": [
    "def MatchAQuote(qCats,quote,qTags):\n",
    "    tempScore=[]\n",
    "    for image in images:\n",
    "        iName=image[0]\n",
    "        iCats=image[1]\n",
    "        iTags=image[2]\n",
    "        matchCats=matchWords(qCats.split(','),iCats.split(','))\n",
    "        matchTags=matchWords(qTags.split(','),iTags.split(','))\n",
    "        score1=len(matchCats)\n",
    "        score2=len(matchTags)\n",
    "        if score1 and score2:\n",
    "            details={\n",
    "                \"iName\":iName,\n",
    "                \"scores\":(score1,score2),\n",
    "                \"mCats\":matchCats,\n",
    "                \"mTags\":matchTags\n",
    "            }\n",
    "            tempScore.append(details)\n",
    "    return tempScore  "
   ]
  },
  {
   "cell_type": "code",
   "execution_count": 11,
   "metadata": {},
   "outputs": [],
   "source": [
    "def matchWords(a,b):\n",
    "    matches=[]\n",
    "    for w in a:\n",
    "        for i in b:\n",
    "            if w.lower()==i.lower():\n",
    "                matches.append(w.lower())\n",
    "    return matches"
   ]
  },
  {
   "cell_type": "code",
   "execution_count": 13,
   "metadata": {},
   "outputs": [],
   "source": [
    "def candidates(sample):\n",
    "    cats=sample[0]\n",
    "    quote=sample[1]\n",
    "    tags=sample[2]\n",
    "    print(\"Cats are: \",cats)\n",
    "    print(\"Quote is: \",quote)\n",
    "    print(\"Tags are: \",tags)\n",
    "    tempScore=MatchAQuote(cats,quote,tags)\n",
    "    print(\"\\nMatched Candidates are: \\n\")\n",
    "    for item in tempScore:\n",
    "        imgName=item[\"iName\"]\n",
    "        print(\"image name: \",imgName)\n",
    "        print(\"scores: \",item[\"scores\"])\n",
    "        print(\"Matched Cats are: \",item[\"mCats\"])\n",
    "        print(\"Matched Tags are: \",item[\"mTags\"])\n",
    "        print()\n",
    "        plt.figure()\n",
    "        head,sep,tail=imgName.partition('_')\n",
    "        IMG=Image.open(\"../images/\"+head+\"/\"+imgName+\".png\")\n",
    "        plt.imshow(IMG)\n",
    "        plt.show()"
   ]
  },
  {
   "cell_type": "code",
   "execution_count": 22,
   "metadata": {},
   "outputs": [
    {
     "name": "stdout",
     "output_type": "stream",
     "text": [
      "Cats are:  arts\n",
      "Quote is:  Dance is the most fundamental of all art forms.\n",
      "Tags are:  Dance\n",
      "\n",
      "Matched Candidates are: \n",
      "\n"
     ]
    }
   ],
   "source": [
    "candidates(quotes[6])"
   ]
  },
  {
   "cell_type": "code",
   "execution_count": null,
   "metadata": {},
   "outputs": [],
   "source": []
  }
 ],
 "metadata": {
  "kernelspec": {
   "display_name": "Python 3",
   "language": "python",
   "name": "python3"
  },
  "language_info": {
   "codemirror_mode": {
    "name": "ipython",
    "version": 3
   },
   "file_extension": ".py",
   "mimetype": "text/x-python",
   "name": "python",
   "nbconvert_exporter": "python",
   "pygments_lexer": "ipython3",
   "version": "3.7.3"
  }
 },
 "nbformat": 4,
 "nbformat_minor": 2
}
